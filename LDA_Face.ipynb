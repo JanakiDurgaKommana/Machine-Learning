{
 "cells": [
  {
   "cell_type": "code",
   "execution_count": 282,
   "id": "69730a02",
   "metadata": {},
   "outputs": [],
   "source": [
    "import numpy as np\n",
    "import cv2\n",
    "import matplotlib.pyplot as plt\n",
    "import math"
   ]
  },
  {
   "cell_type": "code",
   "execution_count": 283,
   "id": "e55b5f9d",
   "metadata": {},
   "outputs": [],
   "source": [
    "#Separating Training and Testing data\n",
    "trainData=[]\n",
    "trainClass=[]\n",
    "testData=[]\n",
    "testClass=[]\n",
    "\n",
    "#image - 112*92 = 10304(mn)\n",
    "for i in range(1,41):\n",
    "    for j in range(1,11):\n",
    "        image=cv2.imread(\"face_data\\\\s\"+str(i)+\"\\\\\"+str(j)+\".pgm\",0)\n",
    "        image=np.ravel(image).astype(np.int64)\n",
    "        if(j>6):\n",
    "            testData.append(image)\n",
    "            testClass.append(i)\n",
    "        else:\n",
    "            trainData.append(image)\n",
    "            trainClass.append(i)"
   ]
  },
  {
   "cell_type": "code",
   "execution_count": 284,
   "id": "cd1c8c36",
   "metadata": {},
   "outputs": [],
   "source": [
    "\n",
    "trainimgs=np.array(trainData).T\n",
    "testimgs=np.array(testData).T\n",
    "\n",
    "trainClass=np.array(trainClass)\n",
    "testClass=np.array(testClass)"
   ]
  },
  {
   "cell_type": "code",
   "execution_count": 285,
   "id": "dd6efea8",
   "metadata": {},
   "outputs": [],
   "source": [
    "def mean_zero_face(data):   #Mean Zero Face Data\n",
    "    Mean=np.mean(data, axis = 1)\n",
    "    for i in range(data.shape[0]):\n",
    "        for j in range(data.shape[1]):\n",
    "            data[i][j] = data[i][j] - Mean[i]\n",
    "    return data \n",
    "    "
   ]
  },
  {
   "cell_type": "code",
   "execution_count": 286,
   "id": "b15f81d0",
   "metadata": {},
   "outputs": [],
   "source": [
    "train_0=mean_zero_face(trainimgs)\n",
    "test_0=mean_zero_face(testimgs)"
   ]
  },
  {
   "cell_type": "code",
   "execution_count": 287,
   "id": "d2f18786",
   "metadata": {},
   "outputs": [],
   "source": [
    "#Function to calculate Eucliedean distance\n",
    "def euclidean(a,b):\n",
    "    d=(a-b)**2\n",
    "    s=np.sum(d)\n",
    "    return s**0.5"
   ]
  },
  {
   "cell_type": "code",
   "execution_count": 288,
   "id": "640768fd",
   "metadata": {},
   "outputs": [],
   "source": [
    "def PCA(train_0,k):\n",
    "    cov = np.dot(train_0.T, train_0) #Covariance matrix\n",
    "    eigenValue,eigenVector=np.linalg.eig(cov) #Finding eigen values and eigen Vectors for PCA\n",
    "    sort_eigenValue=np.argsort(eigenValue) #Sorting eigen Values\n",
    "    sort_eigenValue=sort_eigenValue[::-1]\n",
    "    K_Vector=[]\n",
    "    for i in range(k):\n",
    "        K_Vector.append(eigenVector[sort_eigenValue[i]]) #Getting K best Directions\n",
    "    K_Vector=np.array(K_Vector).T \n",
    "    eigen_faces=np.dot(K_Vector.T,train_0.T) #Generating eigen faces\n",
    "    signature=np.dot(eigen_faces,train_0) #Generating Signature for all faces\n",
    "    \n",
    "    return [eigen_faces,signature]"
   ]
  },
  {
   "cell_type": "code",
   "execution_count": 289,
   "id": "a390a30d",
   "metadata": {},
   "outputs": [],
   "source": [
    "#PCA\n",
    "acc_pca=[]\n",
    "K=[]\n",
    "for k in range(1,150):\n",
    "    eigen_faces,signature=PCA(train_0,k)\n",
    "    \n",
    "    #testing\n",
    "    test_samples=np.dot(eigen_faces,test_0)\n",
    "    \n",
    "    success=0\n",
    "    for i in range(160) : \n",
    "        test_img=test_samples[:,i]\n",
    "        \n",
    "        #Finding the class of the test image by calculating euclidean distance from a test image to all train images\n",
    "        minDist=0\n",
    "        ind=0\n",
    "        for j in range(240):\n",
    "            train_img=signature[:,j]\n",
    "            dist=euclidean(test_img,train_img) \n",
    "            \n",
    "            if minDist==0 :\n",
    "                minDist=dist\n",
    "                ind=j\n",
    "            else :\n",
    "                if dist<minDist:\n",
    "                    minDist=dist\n",
    "                    ind=j\n",
    "                    \n",
    "        if trainClass[ind]==testClass[i]:\n",
    "            success=success+1\n",
    "            \n",
    "    K.append(k)\n",
    "    acc_pca.append(success*100/testimgs.shape[1])"
   ]
  },
  {
   "cell_type": "code",
   "execution_count": 290,
   "id": "ec95670d",
   "metadata": {},
   "outputs": [],
   "source": [
    "K1=240\n",
    "eigen_faces,signature=PCA(train_0,K1) # Selected 240 features from PCA "
   ]
  },
  {
   "cell_type": "code",
   "execution_count": 303,
   "id": "63f9877a",
   "metadata": {},
   "outputs": [],
   "source": [
    "#Mean calculation\n",
    "noc=int(signature.shape[1]/6) #no.of classes\n",
    "MOC=np.mean(signature,axis=1) #Overall ean of all classes\n",
    "MOC=MOC.reshape(len(MOC),1) "
   ]
  },
  {
   "cell_type": "code",
   "execution_count": 304,
   "id": "8cdb84dd",
   "metadata": {},
   "outputs": [],
   "source": [
    "#Within Class Scatter Matrix\n",
    "SW = np.zeros([K1,K1])\n",
    "for i in range(noc):\n",
    "    j=i*6\n",
    "    V=signature[:,j:j+6]\n",
    "    class_mean=np.mean(V,axis = 1)\n",
    "    class_mean=class_mean.reshape(len(class_mean),1)\n",
    "    Mean= np.repeat(class_mean,6,axis = 1)\n",
    "    x=V-Mean\n",
    "    SW = SW + np.dot(x,x.T) #Adding variance of class to SW\n",
    "    \n",
    "#Between Class Scatter Matrix\n",
    "SB = np.zeros([K1,K1])\n",
    "for i in range(noc):\n",
    "    V = signature[:,i:i+6]\n",
    "    class_mean=np.mean(V,axis = 1)\n",
    "    class_mean=class_mean.reshape(len(class_mean),1)\n",
    "    x=class_mean-MOC\n",
    "    SB = SB  + np.dot(x,class_mean.T)"
   ]
  },
  {
   "cell_type": "code",
   "execution_count": 305,
   "id": "4a156e0f",
   "metadata": {},
   "outputs": [],
   "source": [
    "J = np.dot(np.linalg.pinv(SW), SB) #Finding Criterion function\n",
    "eigenValue,eigenVector=np.linalg.eig(J) #Finding eigen values and eigen Vectors for LDA\n",
    "sort_eigenValue=np.argsort(eigenValue) #Sorting eigen Values\n",
    "sort_eigenValue=sort_eigenValue[::-1]"
   ]
  },
  {
   "cell_type": "code",
   "execution_count": 306,
   "id": "214fea01",
   "metadata": {},
   "outputs": [],
   "source": [
    "#LDA\n",
    "acc_lda=[]\n",
    "M=[]\n",
    "for m in range(1,150):\n",
    "    M_Vector=[]\n",
    "    for i in range(m):\n",
    "        M_Vector.append(eigenVector[sort_eigenValue[i]])  #Getting m best Directions\n",
    "    M_Vector=np.array(M_Vector).T \n",
    "    \n",
    "    FF= np.dot(M_Vector.T, signature) #Generating Fisher Faces\n",
    "    PEF= np.dot(eigen_faces,test_0)  #Generating Projected Eigen faces\n",
    "    PFT = np.dot(M_Vector.T,PEF) #Generating projected fisher test images\n",
    "    \n",
    "    success=0\n",
    "    for i in range(160) : \n",
    "        test_img=PFT[:,i]\n",
    "        \n",
    "        #Finding the class of the test image by calculating euclidean distance from a test image to all train images\n",
    "        minDist=0\n",
    "        ind=0\n",
    "        for j in range(240):\n",
    "            train_img=FF[:,j]\n",
    "            dist=euclidean(test_img,train_img) \n",
    "            \n",
    "            if minDist==0 :\n",
    "                minDist=dist\n",
    "                ind=j\n",
    "            else :\n",
    "                if dist<minDist:\n",
    "                    minDist=dist\n",
    "                    ind=j\n",
    "                    \n",
    "        if trainClass[ind] == testClass[i]:\n",
    "            success=success+1\n",
    "            \n",
    "    M.append(m)\n",
    "    acc_lda.append(success*100/testimgs.shape[1])"
   ]
  },
  {
   "cell_type": "code",
   "execution_count": 307,
   "id": "36a7a02e",
   "metadata": {},
   "outputs": [
    {
     "data": {
      "image/png": "[encoded data removed]",
      "text/plain": [
       "<Figure size 432x288 with 1 Axes>"
      ]
     },
     "metadata": {
      "needs_background": "light"
     },
     "output_type": "display_data"
    }
   ],
   "source": [
    "plt.plot(K,acc_pca)\n",
    "plt.plot(M,acc_lda)\n",
    "plt.title('Comparison of PCA and LDA')\n",
    "plt.xlabel(\"No.of features\")\n",
    "plt.ylabel(\"Accuracy\")\n",
    "plt.legend([\"PCA\",\"LDA\"])\n",
    "plt.show()"
   ]
  },
  {
   "cell_type": "code",
   "execution_count": 314,
   "id": "4566da81",
   "metadata": {},
   "outputs": [
    {
     "name": "stdout",
     "output_type": "stream",
     "text": [
      "Accuracy of PCA- 90.0 % at K = 106\n",
      "Accuracy of LDA- 76.25 % at M = 67\n",
      "PCA suits better for face recognition than LDA\n"
     ]
    }
   ],
   "source": [
    "print(\"Accuracy of PCA-\",max(acc_pca),\"% at K =\",acc_pca.index(max(acc_pca)))\n",
    "print(\"Accuracy of LDA-\",max(acc_lda),\"% at M =\",acc_lda.index(max(acc_lda)))\n",
    "if(max(acc_pca)>max(acc_lda)):\n",
    "    print(\"PCA suits better for face recognition than LDA\")\n",
    "else:\n",
    "    print(\"LDA suits better for face recognition than PCA\")"
   ]
  },
  {
   "cell_type": "code",
   "execution_count": null,
   "id": "63dc8984",
   "metadata": {},
   "outputs": [],
   "source": []
  }
 ],
 "metadata": {
  "kernelspec": {
   "display_name": "Python 3 (ipykernel)",
   "language": "python",
   "name": "python3"
  },
  "language_info": {
   "codemirror_mode": {
    "name": "ipython",
    "version": 3
   },
   "file_extension": ".py",
   "mimetype": "text/x-python",
   "name": "python",
   "nbconvert_exporter": "python",
   "pygments_lexer": "ipython3",
   "version": "3.9.7"
  }
 },
 "nbformat": 4,
 "nbformat_minor": 5
}
